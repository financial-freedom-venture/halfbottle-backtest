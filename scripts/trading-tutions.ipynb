{
 "cells": [
  {
   "cell_type": "code",
   "execution_count": 7,
   "metadata": {},
   "outputs": [
    {
     "name": "stdout",
     "output_type": "stream",
     "text": [
      "['/Users/harshitagrawal/Desktop/projects/financial_freedom_projects/options_backtesting_bot/data/weekly_data/2022-09-02_2022-09-08.csv', '/Users/harshitagrawal/Desktop/projects/financial_freedom_projects/options_backtesting_bot/data/weekly_data/2021-09-03_2021-09-09.csv', '/Users/harshitagrawal/Desktop/projects/financial_freedom_projects/options_backtesting_bot/data/weekly_data/2021-11-12_2021-11-18.csv', '/Users/harshitagrawal/Desktop/projects/financial_freedom_projects/options_backtesting_bot/data/weekly_data/2022-01-21_2022-01-27.csv', '/Users/harshitagrawal/Desktop/projects/financial_freedom_projects/options_backtesting_bot/data/weekly_data/2021-05-28_2021-06-03.csv']\n"
     ]
    }
   ],
   "source": [
    "from pathlib import Path\n",
    "\n",
    "def getAllOldCsv():\n",
    "    output = []\n",
    "    files = list(Path(\n",
    "        \"/Users/harshitagrawal/Desktop/projects/financial_freedom_projects/options_backtesting_bot/data/weekly_data/\").rglob(\"*.[cC][sS][vV]\"))\n",
    "    for file in files:\n",
    "\n",
    "        filepath = (\"/\".join(file.parts)\n",
    "                    ).replace(\"//\", \"/\")\n",
    "        output.append(filepath)\n",
    "    return output\n",
    "\n",
    "\n",
    "oldFiles = getAllOldCsv()\n",
    "print(oldFiles[0:5])"
   ]
  },
  {
   "cell_type": "code",
   "execution_count": 16,
   "metadata": {},
   "outputs": [
    {
     "name": "stdout",
     "output_type": "stream",
     "text": [
      "Processing -> 2021-08-20_2021-08-26.csv\n"
     ]
    },
    {
     "data": {
      "text/plain": [
       "True"
      ]
     },
     "execution_count": 16,
     "metadata": {},
     "output_type": "execute_result"
    }
   ],
   "source": [
    "import csv\n",
    "from datetime import datetime, timedelta\n",
    "from helper import generateFiles, writeFiles\n",
    "from candleStick import CandleStickDataType, TimeFrameTypeEnum, CandleStickListDataType, InstrumentTypeEnum\n",
    "\n",
    "def readOptionsCsvFile(filename: str):\n",
    "        output = []\n",
    "        maxTimestamp = 0\n",
    "\n",
    "        with open(filename, mode='r')as file:\n",
    "            csvFile = csv.reader(file)\n",
    "            for lines in csvFile:\n",
    "                if lines[0].strip().lower() == '':\n",
    "                    continue\n",
    "                if lines[0].strip().lower() == 'ticker':\n",
    "                    continue\n",
    "\n",
    "                date = lines[1].strip().split(\" \")[0]\n",
    "                time = lines[1].strip().split(\" \")[1]\n",
    "\n",
    "                dateEntries = date.split(\"-\")\n",
    "                timeEntries = time.split(\":\")\n",
    "\n",
    "                timestamp = datetime(\n",
    "                    int(dateEntries[2]),\n",
    "                    int(dateEntries[1]),\n",
    "                    int(dateEntries[0]),\n",
    "                    int(timeEntries[0]),\n",
    "                    int(timeEntries[1]),\n",
    "                    int(timeEntries[2]) if len(timeEntries) == 3 else 0\n",
    "                ) + timedelta(seconds=19800)\n",
    "\n",
    "                if int(timestamp.timestamp()) > maxTimestamp:\n",
    "                    maxTimestamp = int(timestamp.timestamp())\n",
    "\n",
    "                output.append(\n",
    "                    {\n",
    "                        \"ticker\": lines[0].lower().strip().upper() if \"BANKNIFTY\" not in lines[0].lower().strip().upper() else lines[0].lower().strip().upper().replace(\"BANKNIFTY\", \"CNXBAN\"),\n",
    "                        \"timestamp\": int(timestamp.timestamp()),\n",
    "                        \"open\": float(lines[2].lower().strip()),\n",
    "                        \"high\": float(lines[3].lower().strip()),\n",
    "                        \"low\": float(lines[4].lower().strip()),\n",
    "                        \"close\": float(lines[5].lower().strip()),\n",
    "                        \"volume\": int(lines[6].lower().strip()),\n",
    "                        \"open_interest\": int(lines[7].lower().strip())\n",
    "                    }\n",
    "                )\n",
    "\n",
    "        expiry = str(datetime.fromtimestamp(\n",
    "            maxTimestamp).year) + '-' + str(datetime.fromtimestamp(\n",
    "                maxTimestamp).month) + '-' + str(datetime.fromtimestamp(\n",
    "                    maxTimestamp).day) + \"T21:00:00.000\"\n",
    "        return output, expiry\n",
    "\n",
    "\n",
    "def convertOptionsCsvFile(fileData: dict, expiry: str) -> CandleStickListDataType:\n",
    "    try:\n",
    "        output = CandleStickListDataType(data=[])\n",
    "        for entry in fileData:\n",
    "            if \"WK\" not in entry[\"ticker\"].upper():\n",
    "                continue\n",
    "\n",
    "            if \"MIDCAP\" in entry[\"ticker\"].upper():\n",
    "                continue\n",
    "\n",
    "            data = entry[\"ticker\"].upper().split(\"WK\")\n",
    "\n",
    "            ticker = data[0]\n",
    "\n",
    "            if ticker != \"CANBAN\" and ticker != \"NIFTY\":\n",
    "                continue\n",
    "\n",
    "            strike = int(data[1][0:-2])\n",
    "            \n",
    "            contract = \"\"\n",
    "            if str(data[1]).replace(data[1][0:-2], \"\") == \"CE\":\n",
    "                contract = \"call\"\n",
    "            elif str(data[1]).replace(data[1][0:-2], \"\") == \"PE\":\n",
    "                contract = \"put\"\n",
    "            \n",
    "            if contract == \"\":\n",
    "                continue\n",
    "\n",
    "            output.data.append(\n",
    "                CandleStickDataType(\n",
    "                    ticker=ticker,\n",
    "                    open=entry[\"open\"],\n",
    "                    high=entry[\"high\"],\n",
    "                    low=entry[\"low\"],\n",
    "                    close=entry[\"close\"],\n",
    "                    timestamp=entry[\"timestamp\"]*1000,\n",
    "                    iso_string=datetime.fromtimestamp(entry[\"timestamp\"]).isoformat(),\n",
    "                    volume=entry[\"volume\"],\n",
    "                    open_interest=entry[\"open_interest\"],\n",
    "                    strike=strike,\n",
    "                    expiry_type=\"weekly\",\n",
    "                    expiry=expiry,\n",
    "                    instrument=InstrumentTypeEnum.OPTIONS,\n",
    "                    contract_type=contract,\n",
    "                    timeframe=TimeFrameTypeEnum.MINUTE_1\n",
    "                )\n",
    "            )\n",
    "\n",
    "        return output\n",
    "    except Exception as e:\n",
    "        print(e)\n",
    "        \n",
    "\n",
    "def convertCashCsvFile(fileData: dict) -> CandleStickListDataType:\n",
    "    try:\n",
    "        output = CandleStickListDataType(data=[])\n",
    "        for entry in fileData:\n",
    "            if entry[\"ticker\"].upper().strip() != \"NIFTY\" and entry[\"ticker\"].upper().strip() != \"CANBAN\":\n",
    "                continue\n",
    "\n",
    "\n",
    "            ticker = entry[\"ticker\"]\n",
    "            \n",
    "\n",
    "            output.data.append(\n",
    "                CandleStickDataType(\n",
    "                    ticker=ticker,\n",
    "                    open=entry[\"open\"],\n",
    "                    high=entry[\"high\"],\n",
    "                    low=entry[\"low\"],\n",
    "                    close=entry[\"close\"],\n",
    "                    timestamp=entry[\"timestamp\"]*1000,\n",
    "                    iso_string=datetime.fromtimestamp(entry[\"timestamp\"]).isoformat(),\n",
    "                    volume=entry[\"volume\"],\n",
    "                    instrument=InstrumentTypeEnum.CASH,\n",
    "                    timeframe=TimeFrameTypeEnum.MINUTE_1\n",
    "                )\n",
    "            )\n",
    "\n",
    "        return output\n",
    "    except Exception as e:\n",
    "        print(e)\n",
    "        \n",
    "\n",
    "file = \"/Users/harshitagrawal/Desktop/projects/financial_freedom_projects/options_backtesting_bot/data/weekly_data/2021-08-20_2021-08-26.csv\"\n",
    "print(f'Processing -> {file.split(\"/\")[len(file.split(\"/\")) - 1]}')\n",
    "fileData, expiryDate = readOptionsCsvFile(file)\n",
    "data = convertCashCsvFile(fileData)\n",
    "data = generateFiles(data, InstrumentTypeEnum.CASH)\n",
    "writeFiles(data, InstrumentTypeEnum.CASH)\n"
   ]
  },
  {
   "cell_type": "code",
   "execution_count": 19,
   "metadata": {},
   "outputs": [
    {
     "name": "stdout",
     "output_type": "stream",
     "text": [
      "Processing -> 2022-09-02_2022-09-08.csv\n",
      "Processing -> 2021-09-03_2021-09-09.csv\n",
      "Processing -> 2021-11-12_2021-11-18.csv\n",
      "Processing -> 2022-01-21_2022-01-27.csv\n",
      "Processing -> 2021-05-28_2021-06-03.csv\n",
      "Processing -> 2022-03-04_2022-03-10.csv\n",
      "Processing -> 2021-08-20_2021-08-26.csv\n",
      "Processing -> 2021-02-12_2021-02-18.csv\n",
      "Processing -> 2021-03-05_2021-03-10.csv\n",
      "Processing -> 2022-06-03_2022-06-09.csv\n",
      "Processing -> 2021-09-17_2021-09-23.csv\n",
      "Processing -> 2021-10-29_2021-11-03.csv\n",
      "Processing -> 2022-09-16_2022-09-22.csv\n",
      "Processing -> 2021-01-01_2021-01-07.csv\n"
     ]
    },
    {
     "name": "stderr",
     "output_type": "stream",
     "text": [
      "WARNING:root:IciciDataService -++ writeFiles: Not data found\n"
     ]
    },
    {
     "name": "stdout",
     "output_type": "stream",
     "text": [
      "Processing -> 2021-07-09_2021-07-15.csv\n",
      "Processing -> 2022-07-08_2022-07-14.csv\n",
      "Processing -> 2022-03-25_2022-03-31.csv\n",
      "Processing -> 2021-07-30_2021-08-05.csv\n",
      "Processing -> 2022-05-27_2022-06-02.csv\n",
      "Processing -> 2022-09-23_2022-09-29.csv\n",
      "Processing -> 2021-01-08_2021-01-14.csv\n",
      "Processing -> 2022-06-17_2022-06-23.csv\n",
      "Processing -> 2022-03-11_2022-03-17.csv\n",
      "Processing -> 2022-07-01_2022-07-07.csv\n",
      "Processing -> 2022-01-07_2022-01-13.csv\n"
     ]
    },
    {
     "ename": "KeyboardInterrupt",
     "evalue": "",
     "output_type": "error",
     "traceback": [
      "\u001b[0;31m---------------------------------------------------------------------------\u001b[0m",
      "\u001b[0;31mKeyboardInterrupt\u001b[0m                         Traceback (most recent call last)",
      "Cell \u001b[0;32mIn[19], line 13\u001b[0m\n\u001b[1;32m      9\u001b[0m \u001b[39mfor\u001b[39;00m file \u001b[39min\u001b[39;00m oldFiles:\n\u001b[1;32m     11\u001b[0m     \u001b[39mprint\u001b[39m(\u001b[39mf\u001b[39m\u001b[39m'\u001b[39m\u001b[39mProcessing -> \u001b[39m\u001b[39m{\u001b[39;00mfile\u001b[39m.\u001b[39msplit(\u001b[39m\"\u001b[39m\u001b[39m/\u001b[39m\u001b[39m\"\u001b[39m)[\u001b[39mlen\u001b[39m(file\u001b[39m.\u001b[39msplit(\u001b[39m\"\u001b[39m\u001b[39m/\u001b[39m\u001b[39m\"\u001b[39m)) \u001b[39m-\u001b[39m \u001b[39m1\u001b[39m]\u001b[39m}\u001b[39;00m\u001b[39m'\u001b[39m)\n\u001b[0;32m---> 13\u001b[0m     fileData, expiryDate \u001b[39m=\u001b[39m readOptionsCsvFile(file)\n\u001b[1;32m     14\u001b[0m     data \u001b[39m=\u001b[39m convertCashCsvFile(fileData)\n\u001b[1;32m     15\u001b[0m     data \u001b[39m=\u001b[39m generateFiles(data, InstrumentTypeEnum\u001b[39m.\u001b[39mCASH)\n",
      "Cell \u001b[0;32mIn[16], line 40\u001b[0m, in \u001b[0;36mreadOptionsCsvFile\u001b[0;34m(filename)\u001b[0m\n\u001b[1;32m     33\u001b[0m         \u001b[39mif\u001b[39;00m \u001b[39mint\u001b[39m(timestamp\u001b[39m.\u001b[39mtimestamp()) \u001b[39m>\u001b[39m maxTimestamp:\n\u001b[1;32m     34\u001b[0m             maxTimestamp \u001b[39m=\u001b[39m \u001b[39mint\u001b[39m(timestamp\u001b[39m.\u001b[39mtimestamp())\n\u001b[1;32m     36\u001b[0m         output\u001b[39m.\u001b[39mappend(\n\u001b[1;32m     37\u001b[0m             {\n\u001b[1;32m     38\u001b[0m                 \u001b[39m\"\u001b[39m\u001b[39mticker\u001b[39m\u001b[39m\"\u001b[39m: lines[\u001b[39m0\u001b[39m]\u001b[39m.\u001b[39mlower()\u001b[39m.\u001b[39mstrip()\u001b[39m.\u001b[39mupper() \u001b[39mif\u001b[39;00m \u001b[39m\"\u001b[39m\u001b[39mBANKNIFTY\u001b[39m\u001b[39m\"\u001b[39m \u001b[39mnot\u001b[39;00m \u001b[39min\u001b[39;00m lines[\u001b[39m0\u001b[39m]\u001b[39m.\u001b[39mlower()\u001b[39m.\u001b[39mstrip()\u001b[39m.\u001b[39mupper() \u001b[39melse\u001b[39;00m lines[\u001b[39m0\u001b[39m]\u001b[39m.\u001b[39mlower()\u001b[39m.\u001b[39mstrip()\u001b[39m.\u001b[39mupper()\u001b[39m.\u001b[39mreplace(\u001b[39m\"\u001b[39m\u001b[39mBANKNIFTY\u001b[39m\u001b[39m\"\u001b[39m, \u001b[39m\"\u001b[39m\u001b[39mCNXBAN\u001b[39m\u001b[39m\"\u001b[39m),\n\u001b[1;32m     39\u001b[0m                 \u001b[39m\"\u001b[39m\u001b[39mtimestamp\u001b[39m\u001b[39m\"\u001b[39m: \u001b[39mint\u001b[39m(timestamp\u001b[39m.\u001b[39mtimestamp()),\n\u001b[0;32m---> 40\u001b[0m                 \u001b[39m\"\u001b[39m\u001b[39mopen\u001b[39m\u001b[39m\"\u001b[39m: \u001b[39mfloat\u001b[39;49m(lines[\u001b[39m2\u001b[39;49m]\u001b[39m.\u001b[39;49mlower()\u001b[39m.\u001b[39;49mstrip()),\n\u001b[1;32m     41\u001b[0m                 \u001b[39m\"\u001b[39m\u001b[39mhigh\u001b[39m\u001b[39m\"\u001b[39m: \u001b[39mfloat\u001b[39m(lines[\u001b[39m3\u001b[39m]\u001b[39m.\u001b[39mlower()\u001b[39m.\u001b[39mstrip()),\n\u001b[1;32m     42\u001b[0m                 \u001b[39m\"\u001b[39m\u001b[39mlow\u001b[39m\u001b[39m\"\u001b[39m: \u001b[39mfloat\u001b[39m(lines[\u001b[39m4\u001b[39m]\u001b[39m.\u001b[39mlower()\u001b[39m.\u001b[39mstrip()),\n\u001b[1;32m     43\u001b[0m                 \u001b[39m\"\u001b[39m\u001b[39mclose\u001b[39m\u001b[39m\"\u001b[39m: \u001b[39mfloat\u001b[39m(lines[\u001b[39m5\u001b[39m]\u001b[39m.\u001b[39mlower()\u001b[39m.\u001b[39mstrip()),\n\u001b[1;32m     44\u001b[0m                 \u001b[39m\"\u001b[39m\u001b[39mvolume\u001b[39m\u001b[39m\"\u001b[39m: \u001b[39mint\u001b[39m(lines[\u001b[39m6\u001b[39m]\u001b[39m.\u001b[39mlower()\u001b[39m.\u001b[39mstrip()),\n\u001b[1;32m     45\u001b[0m                 \u001b[39m\"\u001b[39m\u001b[39mopen_interest\u001b[39m\u001b[39m\"\u001b[39m: \u001b[39mint\u001b[39m(lines[\u001b[39m7\u001b[39m]\u001b[39m.\u001b[39mlower()\u001b[39m.\u001b[39mstrip())\n\u001b[1;32m     46\u001b[0m             }\n\u001b[1;32m     47\u001b[0m         )\n\u001b[1;32m     49\u001b[0m expiry \u001b[39m=\u001b[39m \u001b[39mstr\u001b[39m(datetime\u001b[39m.\u001b[39mfromtimestamp(\n\u001b[1;32m     50\u001b[0m     maxTimestamp)\u001b[39m.\u001b[39myear) \u001b[39m+\u001b[39m \u001b[39m'\u001b[39m\u001b[39m-\u001b[39m\u001b[39m'\u001b[39m \u001b[39m+\u001b[39m \u001b[39mstr\u001b[39m(datetime\u001b[39m.\u001b[39mfromtimestamp(\n\u001b[1;32m     51\u001b[0m         maxTimestamp)\u001b[39m.\u001b[39mmonth) \u001b[39m+\u001b[39m \u001b[39m'\u001b[39m\u001b[39m-\u001b[39m\u001b[39m'\u001b[39m \u001b[39m+\u001b[39m \u001b[39mstr\u001b[39m(datetime\u001b[39m.\u001b[39mfromtimestamp(\n\u001b[1;32m     52\u001b[0m             maxTimestamp)\u001b[39m.\u001b[39mday) \u001b[39m+\u001b[39m \u001b[39m\"\u001b[39m\u001b[39mT21:00:00.000\u001b[39m\u001b[39m\"\u001b[39m\n\u001b[1;32m     53\u001b[0m \u001b[39mreturn\u001b[39;00m output, expiry\n",
      "\u001b[0;31mKeyboardInterrupt\u001b[0m: "
     ]
    }
   ],
   "source": [
    "import csv\n",
    "from datetime import datetime, timedelta\n",
    "from helper import generateFiles, writeFiles\n",
    "from candleStick import CandleStickDataType, TimeFrameTypeEnum, CandleStickListDataType, InstrumentTypeEnum\n",
    "from pathlib import Path\n",
    "\n",
    "oldFiles = getAllOldCsv()\n",
    "\n",
    "for file in oldFiles:\n",
    "\n",
    "    print(f'Processing -> {file.split(\"/\")[len(file.split(\"/\")) - 1]}')\n",
    "\n",
    "    fileData, expiryDate = readOptionsCsvFile(file)\n",
    "    data = convertCashCsvFile(fileData)\n",
    "    data = generateFiles(data, InstrumentTypeEnum.CASH)\n",
    "    writeFiles(data, InstrumentTypeEnum.CASH)\n"
   ]
  },
  {
   "cell_type": "code",
   "execution_count": 15,
   "metadata": {},
   "outputs": [
    {
     "name": "stdout",
     "output_type": "stream",
     "text": [
      "Processing -> 2022-09-02_2022-09-08.csv\n",
      "Processing -> 2021-09-03_2021-09-09.csv\n",
      "Processing -> 2021-11-12_2021-11-18.csv\n",
      "Processing -> 2022-01-21_2022-01-27.csv\n",
      "Processing -> 2021-05-28_2021-06-03.csv\n",
      "Processing -> 2022-03-04_2022-03-10.csv\n",
      "Processing -> 2021-08-20_2021-08-26.csv\n",
      "Processing -> 2021-02-12_2021-02-18.csv\n",
      "Processing -> 2021-03-05_2021-03-10.csv\n",
      "Processing -> 2022-06-03_2022-06-09.csv\n",
      "Processing -> 2021-09-17_2021-09-23.csv\n",
      "Processing -> 2021-10-29_2021-11-03.csv\n",
      "Processing -> 2022-09-16_2022-09-22.csv\n",
      "Processing -> 2021-01-01_2021-01-07.csv\n"
     ]
    },
    {
     "name": "stderr",
     "output_type": "stream",
     "text": [
      "WARNING:root:IciciDataService -++ writeFiles: Not data found\n"
     ]
    },
    {
     "name": "stdout",
     "output_type": "stream",
     "text": [
      "Processing -> 2021-07-09_2021-07-15.csv\n",
      "Processing -> 2022-07-08_2022-07-14.csv\n",
      "Processing -> 2022-03-25_2022-03-31.csv\n",
      "Processing -> 2021-07-30_2021-08-05.csv\n",
      "Processing -> 2022-05-27_2022-06-02.csv\n",
      "Processing -> 2022-09-23_2022-09-29.csv\n",
      "Processing -> 2021-01-08_2021-01-14.csv\n",
      "Processing -> 2022-06-17_2022-06-23.csv\n",
      "Processing -> 2022-03-11_2022-03-17.csv\n",
      "Processing -> 2022-07-01_2022-07-07.csv\n",
      "Processing -> 2022-01-07_2022-01-13.csv\n",
      "Processing -> 2021-06-18_2021-06-24.csv\n",
      "Processing -> 2022-07-29_2022-08-04.csv\n",
      "Processing -> 2021-11-19_2021-11-25.csv\n",
      "Processing -> 2021-10-01_2021-10-07.csv\n",
      "Processing -> 2021-12-24_2021-12-30.csv\n",
      "Processing -> 2022-04-18_2022-04-21.csv\n",
      "Processing -> 2021-04-16_2021-04-22.csv\n",
      "Processing -> 2022-08-05_2022-08-11.csv\n",
      "Processing -> 2022-02-18_2022-02-24.csv\n",
      "Processing -> 2021-02-19_2021-02-25.csv\n"
     ]
    },
    {
     "name": "stderr",
     "output_type": "stream",
     "text": [
      "WARNING:root:IciciDataService -++ writeFiles: Not data found\n"
     ]
    },
    {
     "name": "stdout",
     "output_type": "stream",
     "text": [
      "Processing -> 2021-01-29_2021-02-04.csv\n",
      "Processing -> 2021-10-08_2021-10-14.csv\n",
      "Processing -> 2022-04-22_2022-04-28.csv\n",
      "Processing -> 2021-04-23_2021-04-29.csv\n",
      "Processing -> 2021-12-10_2021-12-16.csv\n",
      "Processing -> 2021-05-07_2021-05-12.csv\n",
      "Processing -> 2022-10-07_2022-10-13.csv\n",
      "Processing -> 2021-08-27_2021-09-02.csv\n",
      "Processing -> 2021-03-26_2021-04-01.csv\n",
      "Processing -> 2022-10-21_2022-10-27.csv\n",
      "Processing -> 2022-08-26_2022-09-01.csv\n",
      "Processing -> 2022-03-21_2022-03-24.csv\n",
      "Processing -> 2022-01-28_2022-02-03.csv\n",
      "Processing -> 2021-04-05_2021-04-08.csv\n",
      "Processing -> 2022-05-20_2022-05-26.csv\n",
      "Processing -> 2021-05-21_2021-05-27.csv\n",
      "Processing -> 2022-02-11_2022-02-17.csv\n",
      "Processing -> 2021-07-16_2021-07-22.csv\n",
      "Processing -> 2022-09-09_2022-09-15.csv\n",
      "Processing -> 2021-12-17_2021-12-23.csv\n",
      "Processing -> 2021-01-22_2021-01-28.csv\n",
      "Processing -> 2022-05-13_2022-05-19.csv\n",
      "Processing -> 2021-07-23_2021-07-29.csv\n"
     ]
    },
    {
     "name": "stderr",
     "output_type": "stream",
     "text": [
      "WARNING:root:IciciDataService -++ writeFiles: Not data found\n"
     ]
    },
    {
     "name": "stdout",
     "output_type": "stream",
     "text": [
      "Processing -> 2022-07-22_2022-07-28.csv\n",
      "Processing -> 2022-10-14_2022-10-20.csv\n",
      "Processing -> 2021-10-15_2021-10-20.csv\n",
      "Processing -> 2021-05-14_2021-05-20.csv\n",
      "Processing -> 2021-03-12_2021-03-18.csv\n",
      "Processing -> 2022-08-19_2022-08-25.csv\n",
      "Processing -> 2021-12-03_2021-12-09.csv\n",
      "Processing -> 2021-02-05_2021-02-11.csv\n",
      "Processing -> 2022-02-04_2022-02-10.csv\n",
      "Processing -> 2022-04-29_2022-05-05.csv\n",
      "Processing -> 2021-11-05_2021-11-11.csv\n",
      "Processing -> 2021-02-26_2021-03-04.csv\n",
      "Processing -> 2021-09-13_2021-09-16.csv\n",
      "Processing -> 2021-11-26_2021-12-02.csv\n",
      "Processing -> 2021-06-04_2021-06-10.csv\n",
      "Processing -> 2021-12-31_2022-01-06.csv\n",
      "Processing -> 2021-04-30_2021-05-06.csv\n",
      "Processing -> 2022-04-08_2022-04-13.csv\n",
      "Processing -> 2022-08-12_2022-08-18.csv\n",
      "Processing -> 2021-04-09_2021-04-15.csv\n",
      "Processing -> 2022-02-25_2022-03-03.csv\n",
      "Processing -> 2021-10-22_2021-10-28.csv\n",
      "Processing -> 2021-08-13_2021-08-18.csv\n",
      "Processing -> 2022-07-15_2022-07-21.csv\n",
      "Processing -> 2021-06-11_2021-06-17.csv\n",
      "Processing -> 2022-06-10_2022-06-16.csv\n",
      "Processing -> 2021-03-19_2021-03-25.csv\n",
      "Processing -> 2021-09-24_2021-09-30.csv\n",
      "Processing -> 2022-09-30_2022-10-06.csv\n",
      "Processing -> 2022-04-01_2022-04-07.csv\n",
      "Processing -> 2022-06-24_2022-06-30.csv\n",
      "Processing -> 2022-01-14_2022-01-20.csv\n",
      "Processing -> 2021-01-15_2021-01-21.csv\n"
     ]
    }
   ],
   "source": [
    "import csv\n",
    "from datetime import datetime, timedelta\n",
    "from helper import generateFiles, writeFiles\n",
    "from candleStick import CandleStickDataType, TimeFrameTypeEnum, CandleStickListDataType, InstrumentTypeEnum\n",
    "from pathlib import Path\n",
    "\n",
    "oldFiles = getAllOldCsv()\n",
    "\n",
    "for file in oldFiles:\n",
    "\n",
    "    print(f'Processing -> {file.split(\"/\")[len(file.split(\"/\")) - 1]}')\n",
    "\n",
    "    fileData, expiryDate = readOptionsCsvFile(file)\n",
    "    data = convertOptionsCsvFile(fileData, expiryDate)\n",
    "    data = generateFiles(data, InstrumentTypeEnum.OPTIONS)\n",
    "    writeFiles(data, InstrumentTypeEnum.OPTIONS)\n"
   ]
  }
 ],
 "metadata": {
  "kernelspec": {
   "display_name": "Python 3",
   "language": "python",
   "name": "python3"
  },
  "language_info": {
   "codemirror_mode": {
    "name": "ipython",
    "version": 3
   },
   "file_extension": ".py",
   "mimetype": "text/x-python",
   "name": "python",
   "nbconvert_exporter": "python",
   "pygments_lexer": "ipython3",
   "version": "3.10.8"
  },
  "orig_nbformat": 4,
  "vscode": {
   "interpreter": {
    "hash": "b0fa6594d8f4cbf19f97940f81e996739fb7646882a419484c72d19e05852a7e"
   }
  }
 },
 "nbformat": 4,
 "nbformat_minor": 2
}
