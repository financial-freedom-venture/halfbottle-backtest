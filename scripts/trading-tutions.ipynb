{
 "cells": [
  {
   "cell_type": "code",
   "execution_count": 7,
   "metadata": {},
   "outputs": [
    {
     "name": "stdout",
     "output_type": "stream",
     "text": [
      "['/Users/harshitagrawal/Desktop/projects/financial_freedom_projects/options_backtesting_bot/data/weekly_data/2022-09-02_2022-09-08.csv', '/Users/harshitagrawal/Desktop/projects/financial_freedom_projects/options_backtesting_bot/data/weekly_data/2021-09-03_2021-09-09.csv', '/Users/harshitagrawal/Desktop/projects/financial_freedom_projects/options_backtesting_bot/data/weekly_data/2021-11-12_2021-11-18.csv', '/Users/harshitagrawal/Desktop/projects/financial_freedom_projects/options_backtesting_bot/data/weekly_data/2022-01-21_2022-01-27.csv', '/Users/harshitagrawal/Desktop/projects/financial_freedom_projects/options_backtesting_bot/data/weekly_data/2021-05-28_2021-06-03.csv']\n"
     ]
    }
   ],
   "source": [
    "from pathlib import Path\n",
    "\n",
    "def getAllOldCsv():\n",
    "    output = []\n",
    "    files = list(Path(\n",
    "        \"/Users/harshitagrawal/Desktop/projects/financial_freedom_projects/options_backtesting_bot/data/weekly_data/\").rglob(\"*.[cC][sS][vV]\"))\n",
    "    for file in files:\n",
    "\n",
    "        filepath = (\"/\".join(file.parts)\n",
    "                    ).replace(\"//\", \"/\")\n",
    "        output.append(filepath)\n",
    "    return output\n",
    "\n",
    "\n",
    "oldFiles = getAllOldCsv()\n",
    "print(oldFiles[0:5])"
   ]
  },
  {
   "cell_type": "code",
   "execution_count": 25,
   "metadata": {},
   "outputs": [
    {
     "name": "stdout",
     "output_type": "stream",
     "text": [
      "1387\n"
     ]
    }
   ],
   "source": [
    "import csv\n",
    "from datetime import datetime, timedelta\n",
    "from helper import generateFiles, writeFiles\n",
    "from candleStick import CandleStickDataType, TimeFrameTypeEnum, CandleStickListDataType, InstrumentTypeEnum\n",
    "\n",
    "def readOptionsCsvFile(filename: str):\n",
    "        output = []\n",
    "        maxTimestamp = 0\n",
    "\n",
    "        with open(filename, mode='r')as file:\n",
    "            csvFile = csv.reader(file)\n",
    "            for lines in csvFile:\n",
    "                if lines[0].strip().lower() == '':\n",
    "                    continue\n",
    "                if lines[0].strip().lower() == 'ticker':\n",
    "                    continue\n",
    "\n",
    "                date = lines[1].strip().split(\" \")[0]\n",
    "                time = lines[1].strip().split(\" \")[1]\n",
    "\n",
    "                dateEntries = date.split(\"-\")\n",
    "                timeEntries = time.split(\":\")\n",
    "\n",
    "                timestamp = datetime(\n",
    "                    int(dateEntries[2]),\n",
    "                    int(dateEntries[1]),\n",
    "                    int(dateEntries[0]),\n",
    "                    int(timeEntries[0]),\n",
    "                    int(timeEntries[1]),\n",
    "                    int(timeEntries[2]) if len(timeEntries) == 3 else 0\n",
    "                ) + timedelta(seconds=19800)\n",
    "\n",
    "                if int(timestamp.timestamp()) > maxTimestamp:\n",
    "                    maxTimestamp = int(timestamp.timestamp())\n",
    "\n",
    "                output.append(\n",
    "                    {\n",
    "                        \"ticker\": lines[0].lower().strip().upper() if \"BANKNIFTY\" not in lines[0].lower().strip().upper() else lines[0].lower().strip().upper().replace(\"BANKNIFTY\", \"CNXBAN\"),\n",
    "                        \"timestamp\": int(timestamp.timestamp()),\n",
    "                        \"open\": float(lines[2].lower().strip()),\n",
    "                        \"high\": float(lines[3].lower().strip()),\n",
    "                        \"low\": float(lines[4].lower().strip()),\n",
    "                        \"close\": float(lines[5].lower().strip()),\n",
    "                        \"volume\": int(lines[6].lower().strip()),\n",
    "                        \"open_interest\": int(lines[7].lower().strip())\n",
    "                    }\n",
    "                )\n",
    "\n",
    "        expiry = str(datetime.fromtimestamp(\n",
    "            maxTimestamp).year) + '-' + str(datetime.fromtimestamp(\n",
    "                maxTimestamp).month) + '-' + str(datetime.fromtimestamp(\n",
    "                    maxTimestamp).day) + \"T21:00:00.000\"\n",
    "        return output, expiry\n",
    "\n",
    "\n",
    "def convertOptionsCsvFile(fileData: dict, expiry: str) -> CandleStickListDataType:\n",
    "    try:\n",
    "        output = CandleStickListDataType(data=[])\n",
    "        for entry in fileData:\n",
    "            if \"WK\" not in entry[\"ticker\"].upper():\n",
    "                continue\n",
    "\n",
    "            data = entry[\"ticker\"].upper().split(\"WK\")\n",
    "\n",
    "            ticker = data[0]\n",
    "\n",
    "            if ticker != \"CANBAN\" and ticker != \"NIFTY\":\n",
    "                continue\n",
    "\n",
    "            strike = int(data[1][0:-2])\n",
    "            \n",
    "            contract = \"\"\n",
    "            if str(data[1]).replace(data[1][0:-2], \"\") == \"CE\":\n",
    "                contract = \"call\"\n",
    "            elif str(data[1]).replace(data[1][0:-2], \"\") == \"PE\":\n",
    "                contract = \"put\"\n",
    "            \n",
    "            if contract == \"\":\n",
    "                continue\n",
    "\n",
    "            output.data.append(\n",
    "                CandleStickDataType(\n",
    "                    ticker=ticker,\n",
    "                    open=entry[\"open\"],\n",
    "                    high=entry[\"high\"],\n",
    "                    low=entry[\"low\"],\n",
    "                    close=entry[\"close\"],\n",
    "                    timestamp=entry[\"timestamp\"],\n",
    "                    iso_string=datetime.fromtimestamp(entry[\"timestamp\"]).isoformat(),\n",
    "                    volume=entry[\"volume\"],\n",
    "                    open_interest=entry[\"open_interest\"],\n",
    "                    strike=strike,\n",
    "                    expiry_type=\"weekly\",\n",
    "                    expiry=expiry,\n",
    "                    instrument=InstrumentTypeEnum.OPTIONS,\n",
    "                    contract_type=contract,\n",
    "                    timeframe=TimeFrameTypeEnum.MINUTE_1\n",
    "                )\n",
    "            )\n",
    "\n",
    "        return output\n",
    "    except Exception as e:\n",
    "        print(e)\n",
    "        \n",
    "\n"
   ]
  },
  {
   "cell_type": "code",
   "execution_count": 11,
   "metadata": {},
   "outputs": [
    {
     "name": "stdout",
     "output_type": "stream",
     "text": [
      "Processing -> 2022-09-02_2022-09-08.csv\n",
      "Processing -> 2021-09-03_2021-09-09.csv\n",
      "Processing -> 2021-11-12_2021-11-18.csv\n",
      "Processing -> 2022-01-21_2022-01-27.csv\n",
      "Processing -> 2021-05-28_2021-06-03.csv\n",
      "Processing -> 2022-03-04_2022-03-10.csv\n",
      "Processing -> 2021-08-20_2021-08-26.csv\n"
     ]
    },
    {
     "ename": "ValueError",
     "evalue": "invalid literal for int() with base 10: 'MIDCAP'",
     "output_type": "error",
     "traceback": [
      "\u001b[0;31m---------------------------------------------------------------------------\u001b[0m",
      "\u001b[0;31mValueError\u001b[0m                                Traceback (most recent call last)",
      "Cell \u001b[0;32mIn[11], line 14\u001b[0m\n\u001b[1;32m     11\u001b[0m \u001b[39mprint\u001b[39m(\u001b[39mf\u001b[39m\u001b[39m'\u001b[39m\u001b[39mProcessing -> \u001b[39m\u001b[39m{\u001b[39;00mfile\u001b[39m.\u001b[39msplit(\u001b[39m\"\u001b[39m\u001b[39m/\u001b[39m\u001b[39m\"\u001b[39m)[\u001b[39mlen\u001b[39m(file\u001b[39m.\u001b[39msplit(\u001b[39m\"\u001b[39m\u001b[39m/\u001b[39m\u001b[39m\"\u001b[39m)) \u001b[39m-\u001b[39m \u001b[39m1\u001b[39m]\u001b[39m}\u001b[39;00m\u001b[39m'\u001b[39m)\n\u001b[1;32m     13\u001b[0m fileData, expiryDate \u001b[39m=\u001b[39m readOptionsCsvFile(file)\n\u001b[0;32m---> 14\u001b[0m data \u001b[39m=\u001b[39m convertOptionsCsvFile(fileData, expiryDate)\n\u001b[1;32m     15\u001b[0m data \u001b[39m=\u001b[39m generateFiles(data, InstrumentTypeEnum\u001b[39m.\u001b[39mOPTIONS)\n\u001b[1;32m     16\u001b[0m writeFiles(data, InstrumentTypeEnum\u001b[39m.\u001b[39mOPTIONS)\n",
      "Cell \u001b[0;32mIn[6], line 65\u001b[0m, in \u001b[0;36mconvertOptionsCsvFile\u001b[0;34m(fileData, expiry)\u001b[0m\n\u001b[1;32m     62\u001b[0m data \u001b[39m=\u001b[39m entry[\u001b[39m\"\u001b[39m\u001b[39mticker\u001b[39m\u001b[39m\"\u001b[39m]\u001b[39m.\u001b[39mupper()\u001b[39m.\u001b[39msplit(\u001b[39m\"\u001b[39m\u001b[39mWK\u001b[39m\u001b[39m\"\u001b[39m)\n\u001b[1;32m     64\u001b[0m ticker \u001b[39m=\u001b[39m data[\u001b[39m0\u001b[39m]\n\u001b[0;32m---> 65\u001b[0m strike \u001b[39m=\u001b[39m \u001b[39mint\u001b[39;49m(data[\u001b[39m1\u001b[39;49m][\u001b[39m0\u001b[39;49m:\u001b[39m-\u001b[39;49m\u001b[39m2\u001b[39;49m])\n\u001b[1;32m     67\u001b[0m contract \u001b[39m=\u001b[39m \u001b[39m\"\u001b[39m\u001b[39m\"\u001b[39m\n\u001b[1;32m     68\u001b[0m \u001b[39mif\u001b[39;00m \u001b[39mstr\u001b[39m(data[\u001b[39m1\u001b[39m])\u001b[39m.\u001b[39mreplace(data[\u001b[39m1\u001b[39m][\u001b[39m0\u001b[39m:\u001b[39m-\u001b[39m\u001b[39m2\u001b[39m], \u001b[39m\"\u001b[39m\u001b[39m\"\u001b[39m) \u001b[39m==\u001b[39m \u001b[39m\"\u001b[39m\u001b[39mCE\u001b[39m\u001b[39m\"\u001b[39m:\n",
      "\u001b[0;31mValueError\u001b[0m: invalid literal for int() with base 10: 'MIDCAP'"
     ]
    }
   ],
   "source": [
    "import csv\n",
    "from datetime import datetime, timedelta\n",
    "from helper import generateFiles, writeFiles\n",
    "from candleStick import CandleStickDataType, TimeFrameTypeEnum, CandleStickListDataType, InstrumentTypeEnum\n",
    "from pathlib import Path\n",
    "\n",
    "oldFiles = getAllOldCsv()\n",
    "\n",
    "for file in oldFiles:\n",
    "\n",
    "    print(f'Processing -> {file.split(\"/\")[len(file.split(\"/\")) - 1]}')\n",
    "\n",
    "    fileData, expiryDate = readOptionsCsvFile(file)\n",
    "    data = convertOptionsCsvFile(fileData, expiryDate)\n",
    "    data = generateFiles(data, InstrumentTypeEnum.OPTIONS)\n",
    "    writeFiles(data, InstrumentTypeEnum.OPTIONS)\n"
   ]
  }
 ],
 "metadata": {
  "kernelspec": {
   "display_name": "Python 3",
   "language": "python",
   "name": "python3"
  },
  "language_info": {
   "codemirror_mode": {
    "name": "ipython",
    "version": 3
   },
   "file_extension": ".py",
   "mimetype": "text/x-python",
   "name": "python",
   "nbconvert_exporter": "python",
   "pygments_lexer": "ipython3",
   "version": "3.10.8"
  },
  "orig_nbformat": 4,
  "vscode": {
   "interpreter": {
    "hash": "b0fa6594d8f4cbf19f97940f81e996739fb7646882a419484c72d19e05852a7e"
   }
  }
 },
 "nbformat": 4,
 "nbformat_minor": 2
}
