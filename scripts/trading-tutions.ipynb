{
 "cells": [
  {
   "cell_type": "code",
   "execution_count": 7,
   "metadata": {},
   "outputs": [
    {
     "name": "stdout",
     "output_type": "stream",
     "text": [
      "['/Users/harshitagrawal/Desktop/projects/financial_freedom_projects/options_backtesting_bot/data/weekly_data/2022-09-02_2022-09-08.csv', '/Users/harshitagrawal/Desktop/projects/financial_freedom_projects/options_backtesting_bot/data/weekly_data/2021-09-03_2021-09-09.csv', '/Users/harshitagrawal/Desktop/projects/financial_freedom_projects/options_backtesting_bot/data/weekly_data/2021-11-12_2021-11-18.csv', '/Users/harshitagrawal/Desktop/projects/financial_freedom_projects/options_backtesting_bot/data/weekly_data/2022-01-21_2022-01-27.csv', '/Users/harshitagrawal/Desktop/projects/financial_freedom_projects/options_backtesting_bot/data/weekly_data/2021-05-28_2021-06-03.csv']\n"
     ]
    }
   ],
   "source": [
    "from pathlib import Path\n",
    "\n",
    "def getAllOldCsv():\n",
    "    output = []\n",
    "    files = list(Path(\n",
    "        \"/Users/harshitagrawal/Desktop/projects/financial_freedom_projects/options_backtesting_bot/data/weekly_data/\").rglob(\"*.[cC][sS][vV]\"))\n",
    "    for file in files:\n",
    "\n",
    "        filepath = (\"/\".join(file.parts)\n",
    "                    ).replace(\"//\", \"/\")\n",
    "        output.append(filepath)\n",
    "    return output\n",
    "\n",
    "\n",
    "oldFiles = getAllOldCsv()\n",
    "print(oldFiles[0:5])"
   ]
  },
  {
   "cell_type": "code",
   "execution_count": 25,
   "metadata": {},
   "outputs": [
    {
     "name": "stdout",
     "output_type": "stream",
     "text": [
      "1387\n"
     ]
    }
   ],
   "source": [
    "import csv\n",
    "from datetime import datetime, timedelta\n",
    "from helper import generateFiles, writeFiles\n",
    "from candleStick import CandleStickDataType, TimeFrameTypeEnum, CandleStickListDataType, InstrumentTypeEnum\n",
    "\n",
    "def __readOptionsCsvFile(filename: str):\n",
    "        output = []\n",
    "        maxTimestamp = 0\n",
    "\n",
    "        with open(filename, mode='r')as file:\n",
    "            csvFile = csv.reader(file)\n",
    "            for lines in csvFile:\n",
    "                if lines[0].strip().lower() == '':\n",
    "                    continue\n",
    "                if lines[0].strip().lower() == 'ticker':\n",
    "                    continue\n",
    "\n",
    "                date = lines[1].strip().split(\" \")[0]\n",
    "                time = lines[1].strip().split(\" \")[1]\n",
    "\n",
    "                dateEntries = date.split(\"-\")\n",
    "                timeEntries = time.split(\":\")\n",
    "\n",
    "                timestamp = datetime(\n",
    "                    int(dateEntries[2]),\n",
    "                    int(dateEntries[1]),\n",
    "                    int(dateEntries[0]),\n",
    "                    int(timeEntries[0]),\n",
    "                    int(timeEntries[1]),\n",
    "                    int(timeEntries[2]) if len(timeEntries) == 3 else 0\n",
    "                ) + timedelta(seconds=19800)\n",
    "\n",
    "                if int(timestamp.timestamp()) > maxTimestamp:\n",
    "                    maxTimestamp = int(timestamp.timestamp())\n",
    "\n",
    "                output.append(\n",
    "                    {\n",
    "                        \"ticker\": lines[0].lower().strip() if \"BANKNIFTY\" not in lines[0].lower().strip() else lines[0].lower().strip().replace(\"BANKNIFTY\", \"CNXBAN\"),\n",
    "                        \"timestamp\": int(timestamp.timestamp()),\n",
    "                        \"open\": float(lines[2].lower().strip()),\n",
    "                        \"high\": float(lines[3].lower().strip()),\n",
    "                        \"low\": float(lines[4].lower().strip()),\n",
    "                        \"close\": float(lines[5].lower().strip()),\n",
    "                        \"volume\": int(lines[6].lower().strip()),\n",
    "                        \"open_interest\": int(lines[7].lower().strip())\n",
    "                    }\n",
    "                )\n",
    "\n",
    "        expiry = str(datetime.fromtimestamp(\n",
    "            maxTimestamp).year) + '-' + str(datetime.fromtimestamp(\n",
    "                maxTimestamp).month) + '-' + str(datetime.fromtimestamp(\n",
    "                    maxTimestamp).day) + \"T21:00:00.000\"\n",
    "        return output, expiry\n",
    "\n",
    "\n",
    "def __convertOptionsCsvFile(fileData: dict, expiry: str) -> CandleStickListDataType:\n",
    "    output = CandleStickListDataType(data=[])\n",
    "    for entry in fileData:\n",
    "        if \"WK\" not in entry[\"ticker\"].upper():\n",
    "            continue\n",
    "\n",
    "        data = entry[\"ticker\"].upper().split(\"WK\")\n",
    "\n",
    "        ticker = data[0]\n",
    "        strike = int(data[1][0:-2])\n",
    "        \n",
    "        contract = \"\"\n",
    "        if str(data[1]).replace(data[1][0:-2], \"\") == \"CE\":\n",
    "            contract = \"call\"\n",
    "        elif str(data[1]).replace(data[1][0:-2], \"\") == \"PE\":\n",
    "            contract = \"put\"\n",
    "        \n",
    "        if contract == \"\":\n",
    "            continue\n",
    "\n",
    "        output.data.append(\n",
    "            CandleStickDataType(\n",
    "                ticker=ticker,\n",
    "                open=entry[\"open\"],\n",
    "                high=entry[\"high\"],\n",
    "                low=entry[\"low\"],\n",
    "                close=entry[\"close\"],\n",
    "                timestamp=entry[\"timestamp\"],\n",
    "                iso_string=datetime.fromtimestamp(entry[\"timestamp\"]).isoformat(),\n",
    "                volume=entry[\"volume\"],\n",
    "                open_interest=entry[\"open_interest\"],\n",
    "                strike=strike,\n",
    "                expiry_type=\"weekly\",\n",
    "                expiry=expiry,\n",
    "                instrument=InstrumentTypeEnum.OPTIONS,\n",
    "                contract_type=contract,\n",
    "                timeframe=TimeFrameTypeEnum.MINUTE_1\n",
    "            )\n",
    "        )\n",
    "\n",
    "    return output\n",
    "        \n",
    "\n",
    "fileData, expiryDate = __readOptionsCsvFile(\n",
    "    '/Users/harshitagrawal/Desktop/projects/financial_freedom_projects/options_backtesting_bot/data/weekly_data/2022-09-02_2022-09-08.csv')\n",
    "\n",
    "data = __convertOptionsCsvFile(fileData, expiryDate)\n",
    "\n",
    "data = generateFiles(data, InstrumentTypeEnum.OPTIONS)\n",
    "\n",
    "print(len(data))\n",
    "\n",
    "writeFiles(data, InstrumentTypeEnum.OPTIONS)\n",
    "\n"
   ]
  },
  {
   "cell_type": "code",
   "execution_count": null,
   "metadata": {},
   "outputs": [],
   "source": [
    "\n"
   ]
  }
 ],
 "metadata": {
  "kernelspec": {
   "display_name": "Python 3",
   "language": "python",
   "name": "python3"
  },
  "language_info": {
   "codemirror_mode": {
    "name": "ipython",
    "version": 3
   },
   "file_extension": ".py",
   "mimetype": "text/x-python",
   "name": "python",
   "nbconvert_exporter": "python",
   "pygments_lexer": "ipython3",
   "version": "3.10.8"
  },
  "orig_nbformat": 4,
  "vscode": {
   "interpreter": {
    "hash": "b0fa6594d8f4cbf19f97940f81e996739fb7646882a419484c72d19e05852a7e"
   }
  }
 },
 "nbformat": 4,
 "nbformat_minor": 2
}
