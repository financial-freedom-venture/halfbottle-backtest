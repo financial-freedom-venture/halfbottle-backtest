{
 "cells": [
  {
   "cell_type": "code",
   "execution_count": 1,
   "metadata": {},
   "outputs": [
    {
     "name": "stdout",
     "output_type": "stream",
     "text": [
      "['/Users/harshitagrawal/Downloads/raw_data/cash_and_fut/2013/NIFTY.csv', '/Users/harshitagrawal/Downloads/raw_data/cash_and_fut/2013/NIFTY_F1.csv', '/Users/harshitagrawal/Downloads/raw_data/cash_and_fut/2013/BANKNIFTY.csv', '/Users/harshitagrawal/Downloads/raw_data/cash_and_fut/2013/BANKNIFTY_F1.csv', '/Users/harshitagrawal/Downloads/raw_data/cash_and_fut/2013/INDIAVIX.csv']\n"
     ]
    }
   ],
   "source": [
    "from pathlib import Path\n",
    "\n",
    "def getAllRawCsv():\n",
    "    output = []\n",
    "    files = list(Path(\n",
    "        \"/Users/harshitagrawal/Downloads/raw_data/cash_and_fut/\").rglob(\"*.[cC][sS][vV]\"))\n",
    "    for file in files:\n",
    "\n",
    "        filepath = (\"/\".join(file.parts)\n",
    "                    ).replace(\"//\", \"/\")\n",
    "        output.append(filepath)\n",
    "    return output\n",
    "\n",
    "\n",
    "rawFiles = getAllRawCsv()\n",
    "print(rawFiles[0:5])\n"
   ]
  },
  {
   "cell_type": "code",
   "execution_count": 2,
   "metadata": {},
   "outputs": [],
   "source": [
    "from datetime import datetime, timedelta, date\n",
    "from model.candleStick import CandleStickDataType, InstrumentTypeEnum, TimeFrameTypeEnum, CandleStickListDataType\n",
    "\n",
    "def getCashData(fileName: str):\n",
    "    data = fileName.split(\"raw_data\")[len(fileName.split(\n",
    "        \"raw_data\")) - 1].replace(\"//\", \"/\").removeprefix(\"/\").split(\"/\")\n",
    "\n",
    "    # ticker = ticker.upper() if ticker == \"NIFTY\" else \"CANBAN\"\n",
    "    ticker = data[len(data) - 1].replace(\".csv\", \"\").upper()\n",
    "    if ticker == \"BANKNIFTY\":\n",
    "        ticker = \"CNXBAN\"\n",
    "\n",
    "    with open(fileName) as file:\n",
    "        rows = file.readlines()\n",
    "\n",
    "    output = []\n",
    "    for row in rows:\n",
    "        if len(row) == 1:\n",
    "            continue\n",
    "        row = row.replace('\\n', \"\").split(\",\")\n",
    "        \n",
    "        # -1 because raw dat is 60 second drifted\n",
    "        try:\n",
    "            if \"/\" not in row[1] and \"-\" not in row[1]:\n",
    "                row[1] = row[1][0:4] + \"-\" + row[1][4:6] + \"-\" + row[1][6:8]\n",
    "            data_datetime = datetime.fromisoformat(row[1].replace(\n",
    "                \"/\", \"-\") + \"T\" + row[2] + \":00.000\") + timedelta(minutes=-1)\n",
    "        except Exception as e:\n",
    "            print(e)\n",
    "        price_open = float(row[3])\n",
    "        price_high = float(row[4])\n",
    "        price_low = float(row[5])\n",
    "        price_close = float(row[6])\n",
    "        vol = int(row[7]) if len(row) > 7 else 0\n",
    "\n",
    "        output.append(CandleStickDataType(\n",
    "            ticker=ticker,\n",
    "            open=price_open,\n",
    "            high=price_high,\n",
    "            low=price_low,\n",
    "            close=price_close,\n",
    "            timestamp=int(data_datetime.timestamp()*1000),\n",
    "            iso_string=data_datetime.isoformat(),\n",
    "            volume=vol,\n",
    "            instrument=InstrumentTypeEnum.CASH,\n",
    "            timeframe=TimeFrameTypeEnum.MINUTE_1\n",
    "        ))\n",
    "\n",
    "    return CandleStickListDataType(data=output)\n",
    "\n"
   ]
  },
  {
   "cell_type": "code",
   "execution_count": 4,
   "metadata": {},
   "outputs": [
    {
     "name": "stdout",
     "output_type": "stream",
     "text": [
      "Processing -> NIFTY.csv\n",
      "Processing -> BANKNIFTY.csv\n",
      "Processing -> INDIAVIX.csv\n",
      "Processing -> NIFTY.csv\n",
      "Processing -> BANKNIFTY.csv\n",
      "Processing -> INDIAVIX.csv\n",
      "Processing -> NIFTY.csv\n",
      "Processing -> BANKNIFTY.csv\n",
      "Processing -> INDIAVIX.csv\n",
      "Processing -> NIFTY.csv\n",
      "Processing -> BANKNIFTY.csv\n",
      "Processing -> INDIAVIX.csv\n",
      "Processing -> NIFTY.csv\n",
      "Processing -> BANKNIFTY.csv\n",
      "Processing -> INDIAVIX.csv\n",
      "Processing -> NIFTY.csv\n",
      "Processing -> BANKNIFTY.csv\n",
      "Processing -> INDIAVIX.csv\n",
      "Processing -> NIFTY.csv\n",
      "Processing -> BANKNIFTY.csv\n",
      "Processing -> INDIAVIX.csv\n",
      "Processing -> NIFTY.csv\n",
      "Processing -> BANKNIFTY.csv\n",
      "Processing -> INDIAVIX.csv\n",
      "Processing -> NIFTY.csv\n",
      "Processing -> BANKNIFTY.csv\n",
      "Processing -> INDIAVIX.csv\n",
      "Processing -> NIFTY.csv\n",
      "Processing -> BANKNIFTY.csv\n",
      "Processing -> INDIAVIX.csv\n",
      "Processing -> NIFTY.csv\n",
      "Processing -> BANKNIFTY.csv\n",
      "Processing -> INDIAVIX.csv\n"
     ]
    }
   ],
   "source": [
    "import csv\n",
    "from datetime import datetime\n",
    "from scripts.helper import generateFiles, writeFiles\n",
    "from model.candleStick import CandleStickDataType, TimeFrameTypeEnum, CandleStickListDataType, InstrumentTypeEnum\n",
    "from pathlib import Path\n",
    "\n",
    "rawFiles = getAllRawCsv()\n",
    "\n",
    "for file in rawFiles:\n",
    "\n",
    "    if \"BANKNIFTY.csv\" in file or \"NIFTY.csv\" in file or \"INDIAVIX.csv\" in file:\n",
    "        print(f'Processing -> {file.split(\"/\")[len(file.split(\"/\")) - 1]}')\n",
    "\n",
    "        data = getCashData(file)\n",
    "        data = generateFiles(data, InstrumentTypeEnum.CASH)\n",
    "        writeFiles(data, InstrumentTypeEnum.CASH)\n"
   ]
  }
 ],
 "metadata": {
  "kernelspec": {
   "display_name": "Python 3",
   "language": "python",
   "name": "python3"
  },
  "language_info": {
   "codemirror_mode": {
    "name": "ipython",
    "version": 3
   },
   "file_extension": ".py",
   "mimetype": "text/x-python",
   "name": "python",
   "nbconvert_exporter": "python",
   "pygments_lexer": "ipython3",
   "version": "3.10.9"
  },
  "orig_nbformat": 4,
  "vscode": {
   "interpreter": {
    "hash": "b0fa6594d8f4cbf19f97940f81e996739fb7646882a419484c72d19e05852a7e"
   }
  }
 },
 "nbformat": 4,
 "nbformat_minor": 2
}
