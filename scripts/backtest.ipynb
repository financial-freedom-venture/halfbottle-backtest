{
 "cells": [
  {
   "cell_type": "code",
   "execution_count": 4,
   "metadata": {},
   "outputs": [],
   "source": [
    "import requests\n",
    "from datetime import datetime\n",
    "\n",
    "\n",
    "def testStrategy(start_date: datetime, end_date: datetime, strategy: dict):\n",
    "    url = \"https://backtest.halfbottle.in/backtest/distributed\"\n",
    "    params = {\n",
    "        \"start_date_day\": start_date.day,\n",
    "        \"start_date_month\": start_date.month,\n",
    "        \"start_date_year\": start_date.year,\n",
    "\n",
    "        \"end_date_day\": end_date.day,\n",
    "        \"end_date_month\": end_date.month,\n",
    "        \"end_date_year\": end_date.year,\n",
    "    }\n",
    "\n",
    "    response = requests.post(url, params=params, json=strategy)\n",
    "\n",
    "    if response.status_code != 200:\n",
    "        return None\n",
    "\n",
    "    responseData = response.json()\n",
    "\n",
    "    return responseData\n"
   ]
  },
  {
   "cell_type": "code",
   "execution_count": 2,
   "metadata": {},
   "outputs": [],
   "source": [
    "strategy = {\n",
    "    \"ticker\": \"CNXBAN\",\n",
    "    \"expiry\": \"weekly\",\n",
    "    \"entry\": {\n",
    "        \"included_days\": [],\n",
    "        \"time\": \"13:30\"\n",
    "    },\n",
    "    \"exit\": {\n",
    "        \"data_source\": \"pnl_points\",\n",
    "        \"trailing_stoploss\": {\n",
    "            \"base_move\": -1,\n",
    "            \"base_stoploss\": -1,\n",
    "            \"subsequent_move\": -1,\n",
    "            \"subsequent_stoploss_increment\": -1,\n",
    "            \"subsequent_stoploss_increment_change\": -1,\n",
    "            \"final_minimum_stoploss\": -1\n",
    "        },\n",
    "        \"direction\": \"long\",\n",
    "        \"take_profit\": -1,\n",
    "        \"stoploss\": -1,\n",
    "        \"time\": \"14:30\"\n",
    "    },\n",
    "    \"spread\": {\n",
    "        \"spread_name\": \"Short Straddle\",\n",
    "        \"stoploss_condition\": \"exit_one_leg\",\n",
    "        \"order\": [\n",
    "            {\n",
    "                \"strike\": {\"strike_type\": \"ATM_AND_STRIKE_POINTS\", \"value\": \"ATM+0\"},\n",
    "                \"order_side\": \"sell\",\n",
    "                \"contract_type\": \"call\",\n",
    "                \"stoploss_percent\": 40\n",
    "            },\n",
    "            {\n",
    "                \"strike\":  {\"strike_type\": \"ATM_AND_STRIKE_POINTS\", \"value\": \"ATM+0\"},\n",
    "                \"order_side\": \"sell\",\n",
    "                \"contract_type\": \"put\",\n",
    "                \"stoploss_percent\": 40\n",
    "            }\n",
    "        ]\n",
    "    }\n",
    "}\n"
   ]
  },
  {
   "cell_type": "code",
   "execution_count": 5,
   "metadata": {},
   "outputs": [
    {
     "name": "stdout",
     "output_type": "stream",
     "text": [
      "{'total_failed_percent': 0.0, 'average_request_time': 521.1996649999999, 'max_request_time': 992.474, 'total_time': 4.384972333908081, 'total_points_captured': 1566.65, 'total_trades': 219, 'total_won_points': 3218.4000000000005, 'total_won_trades': 154, 'max_won_point': 2639, 'total_lost_points': -1651.7499999999995, 'total_lost_trades': 65, 'max_lost_point': -1527}\n"
     ]
    }
   ],
   "source": [
    "from datetime import datetime\n",
    "\n",
    "START_DATE = datetime(2019, 1, 1)\n",
    "END_DATE = datetime(2019, 12, 31)\n",
    "\n",
    "data = testStrategy(START_DATE, END_DATE, strategy)\n",
    "\n",
    "print(data)\n"
   ]
  }
 ],
 "metadata": {
  "kernelspec": {
   "display_name": "Python 3",
   "language": "python",
   "name": "python3"
  },
  "language_info": {
   "codemirror_mode": {
    "name": "ipython",
    "version": 3
   },
   "file_extension": ".py",
   "mimetype": "text/x-python",
   "name": "python",
   "nbconvert_exporter": "python",
   "pygments_lexer": "ipython3",
   "version": "3.10.8"
  },
  "orig_nbformat": 4,
  "vscode": {
   "interpreter": {
    "hash": "b0fa6594d8f4cbf19f97940f81e996739fb7646882a419484c72d19e05852a7e"
   }
  }
 },
 "nbformat": 4,
 "nbformat_minor": 2
}
