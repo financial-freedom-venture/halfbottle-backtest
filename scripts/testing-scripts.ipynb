{
 "cells": [
  {
   "cell_type": "code",
   "execution_count": 8,
   "metadata": {},
   "outputs": [
    {
     "name": "stdout",
     "output_type": "stream",
     "text": [
      "../data/CASH/CNXBAN/2011-9-20.csv\n"
     ]
    }
   ],
   "source": [
    "from pathlib import Path\n",
    "import pandas as pd\n",
    "\n",
    "\n",
    "files = list(Path(\"../data/CASH/\").rglob(\"*.[cC][sS][vV]\"))\n",
    "for file in files:\n",
    "    filepath = (\"/\".join(file.parts)).replace(\"//\", \"/\")\n",
    "    print(filepath)\n",
    "\n",
    "    df = pd.read_csv(filepath)\n",
    "    df[\"timestamp\"] = df[\"timestamp\"] - 60000\n",
    "    df = df.drop('Unnamed: 0', axis=1)\n",
    "    # print(df)\n",
    "    df.to_csv(filepath)\n"
   ]
  }
 ],
 "metadata": {
  "kernelspec": {
   "display_name": "Python 3",
   "language": "python",
   "name": "python3"
  },
  "language_info": {
   "codemirror_mode": {
    "name": "ipython",
    "version": 3
   },
   "file_extension": ".py",
   "mimetype": "text/x-python",
   "name": "python",
   "nbconvert_exporter": "python",
   "pygments_lexer": "ipython3",
   "version": "3.10.8"
  },
  "orig_nbformat": 4,
  "vscode": {
   "interpreter": {
    "hash": "b0fa6594d8f4cbf19f97940f81e996739fb7646882a419484c72d19e05852a7e"
   }
  }
 },
 "nbformat": 4,
 "nbformat_minor": 2
}
